{
 "cells": [
  {
   "cell_type": "code",
   "execution_count": 1,
   "id": "d0dcc641",
   "metadata": {},
   "outputs": [
    {
     "name": "stdout",
     "output_type": "stream",
     "text": [
      "Defaulting to user installation because normal site-packages is not writeable\n",
      "Requirement already satisfied: xgboost in c:\\programdata\\anaconda3\\lib\\site-packages (1.6.2)\n",
      "Requirement already satisfied: numpy in c:\\programdata\\anaconda3\\lib\\site-packages (from xgboost) (1.21.5)\n",
      "Requirement already satisfied: scipy in c:\\programdata\\anaconda3\\lib\\site-packages (from xgboost) (1.7.3)\n"
     ]
    }
   ],
   "source": [
    "!pip install xgboost"
   ]
  },
  {
   "cell_type": "code",
   "execution_count": 2,
   "id": "9ce8c3fa",
   "metadata": {},
   "outputs": [
    {
     "name": "stdout",
     "output_type": "stream",
     "text": [
      "Defaulting to user installation because normal site-packages is not writeable\n",
      "Requirement already satisfied: pandas in c:\\programdata\\anaconda3\\lib\\site-packages (1.4.2)\n",
      "Requirement already satisfied: scikit-learn in c:\\programdata\\anaconda3\\lib\\site-packages (1.0.2)\n",
      "Requirement already satisfied: numpy>=1.18.5 in c:\\programdata\\anaconda3\\lib\\site-packages (from pandas) (1.21.5)\n",
      "Requirement already satisfied: python-dateutil>=2.8.1 in c:\\programdata\\anaconda3\\lib\\site-packages (from pandas) (2.8.2)\n",
      "Requirement already satisfied: pytz>=2020.1 in c:\\programdata\\anaconda3\\lib\\site-packages (from pandas) (2021.3)\n",
      "Requirement already satisfied: threadpoolctl>=2.0.0 in c:\\programdata\\anaconda3\\lib\\site-packages (from scikit-learn) (2.2.0)\n",
      "Requirement already satisfied: scipy>=1.1.0 in c:\\programdata\\anaconda3\\lib\\site-packages (from scikit-learn) (1.7.3)\n",
      "Requirement already satisfied: joblib>=0.11 in c:\\programdata\\anaconda3\\lib\\site-packages (from scikit-learn) (1.1.0)\n",
      "Requirement already satisfied: six>=1.5 in c:\\programdata\\anaconda3\\lib\\site-packages (from python-dateutil>=2.8.1->pandas) (1.16.0)\n"
     ]
    }
   ],
   "source": [
    "!pip install pandas scikit-learn"
   ]
  },
  {
   "cell_type": "code",
   "execution_count": 3,
   "id": "8bad3618",
   "metadata": {},
   "outputs": [],
   "source": [
    "import pandas as pd\n",
    "import numpy as np\n",
    "\n",
    "from sklearn.model_selection import train_test_split\n",
    "from sklearn.feature_extraction import DictVectorizer\n",
    "\n",
    "from sklearn.ensemble import RandomForestClassifier\n",
    "\n",
    "import xgboost as xgb"
   ]
  },
  {
   "cell_type": "code",
   "execution_count": 4,
   "id": "83ea791c",
   "metadata": {},
   "outputs": [
    {
     "data": {
      "text/html": [
       "<div>\n",
       "<style scoped>\n",
       "    .dataframe tbody tr th:only-of-type {\n",
       "        vertical-align: middle;\n",
       "    }\n",
       "\n",
       "    .dataframe tbody tr th {\n",
       "        vertical-align: top;\n",
       "    }\n",
       "\n",
       "    .dataframe thead th {\n",
       "        text-align: right;\n",
       "    }\n",
       "</style>\n",
       "<table border=\"1\" class=\"dataframe\">\n",
       "  <thead>\n",
       "    <tr style=\"text-align: right;\">\n",
       "      <th></th>\n",
       "      <th>Status</th>\n",
       "      <th>Seniority</th>\n",
       "      <th>Home</th>\n",
       "      <th>Time</th>\n",
       "      <th>Age</th>\n",
       "      <th>Marital</th>\n",
       "      <th>Records</th>\n",
       "      <th>Job</th>\n",
       "      <th>Expenses</th>\n",
       "      <th>Income</th>\n",
       "      <th>Assets</th>\n",
       "      <th>Debt</th>\n",
       "      <th>Amount</th>\n",
       "      <th>Price</th>\n",
       "    </tr>\n",
       "  </thead>\n",
       "  <tbody>\n",
       "    <tr>\n",
       "      <th>0</th>\n",
       "      <td>1</td>\n",
       "      <td>9</td>\n",
       "      <td>1</td>\n",
       "      <td>60</td>\n",
       "      <td>30</td>\n",
       "      <td>2</td>\n",
       "      <td>1</td>\n",
       "      <td>3</td>\n",
       "      <td>73</td>\n",
       "      <td>129</td>\n",
       "      <td>0</td>\n",
       "      <td>0</td>\n",
       "      <td>800</td>\n",
       "      <td>846</td>\n",
       "    </tr>\n",
       "    <tr>\n",
       "      <th>1</th>\n",
       "      <td>1</td>\n",
       "      <td>17</td>\n",
       "      <td>1</td>\n",
       "      <td>60</td>\n",
       "      <td>58</td>\n",
       "      <td>3</td>\n",
       "      <td>1</td>\n",
       "      <td>1</td>\n",
       "      <td>48</td>\n",
       "      <td>131</td>\n",
       "      <td>0</td>\n",
       "      <td>0</td>\n",
       "      <td>1000</td>\n",
       "      <td>1658</td>\n",
       "    </tr>\n",
       "    <tr>\n",
       "      <th>2</th>\n",
       "      <td>2</td>\n",
       "      <td>10</td>\n",
       "      <td>2</td>\n",
       "      <td>36</td>\n",
       "      <td>46</td>\n",
       "      <td>2</td>\n",
       "      <td>2</td>\n",
       "      <td>3</td>\n",
       "      <td>90</td>\n",
       "      <td>200</td>\n",
       "      <td>3000</td>\n",
       "      <td>0</td>\n",
       "      <td>2000</td>\n",
       "      <td>2985</td>\n",
       "    </tr>\n",
       "    <tr>\n",
       "      <th>3</th>\n",
       "      <td>1</td>\n",
       "      <td>0</td>\n",
       "      <td>1</td>\n",
       "      <td>60</td>\n",
       "      <td>24</td>\n",
       "      <td>1</td>\n",
       "      <td>1</td>\n",
       "      <td>1</td>\n",
       "      <td>63</td>\n",
       "      <td>182</td>\n",
       "      <td>2500</td>\n",
       "      <td>0</td>\n",
       "      <td>900</td>\n",
       "      <td>1325</td>\n",
       "    </tr>\n",
       "    <tr>\n",
       "      <th>4</th>\n",
       "      <td>1</td>\n",
       "      <td>0</td>\n",
       "      <td>1</td>\n",
       "      <td>36</td>\n",
       "      <td>26</td>\n",
       "      <td>1</td>\n",
       "      <td>1</td>\n",
       "      <td>1</td>\n",
       "      <td>46</td>\n",
       "      <td>107</td>\n",
       "      <td>0</td>\n",
       "      <td>0</td>\n",
       "      <td>310</td>\n",
       "      <td>910</td>\n",
       "    </tr>\n",
       "  </tbody>\n",
       "</table>\n",
       "</div>"
      ],
      "text/plain": [
       "   Status  Seniority  Home  Time  Age  Marital  Records  Job  Expenses  \\\n",
       "0       1          9     1    60   30        2        1    3        73   \n",
       "1       1         17     1    60   58        3        1    1        48   \n",
       "2       2         10     2    36   46        2        2    3        90   \n",
       "3       1          0     1    60   24        1        1    1        63   \n",
       "4       1          0     1    36   26        1        1    1        46   \n",
       "\n",
       "   Income  Assets  Debt  Amount  Price  \n",
       "0     129       0     0     800    846  \n",
       "1     131       0     0    1000   1658  \n",
       "2     200    3000     0    2000   2985  \n",
       "3     182    2500     0     900   1325  \n",
       "4     107       0     0     310    910  "
      ]
     },
     "execution_count": 4,
     "metadata": {},
     "output_type": "execute_result"
    }
   ],
   "source": [
    "data = 'https://raw.githubusercontent.com/alexeygrigorev/mlbookcamp-code/master/chapter-06-trees/CreditScoring.csv'\n",
    "df = pd.read_csv(data)\n",
    "df.head()"
   ]
  },
  {
   "cell_type": "code",
   "execution_count": 5,
   "id": "08e2e49c",
   "metadata": {},
   "outputs": [],
   "source": [
    "df.columns = df.columns.str.lower()\n",
    "\n",
    "status_values = { 1: 'ok', 2: 'default', 0: 'unk'}\n",
    "\n",
    "df.status = df.status.map(status_values)\n",
    "\n",
    "home_values = {1: 'rent',2: 'owner',3: 'private',4: 'ignore',5: 'parents',6: 'other',0: 'unk'}\n",
    "\n",
    "df.home = df.home.map(home_values)\n",
    "\n",
    "marital_values = { 1: 'single',2: 'married',3: 'widow',4: 'separated',5: 'divorced',0: 'unk'}\n",
    "\n",
    "df.marital = df.marital.map(marital_values)\n",
    "\n",
    "records_values = {1: 'no',2: 'yes',0: 'unk'}\n",
    "\n",
    "df.records = df.records.map(records_values)\n",
    "\n",
    "job_values = {1: 'fixed',2: 'partime',3: 'freelance', 4: 'others',0: 'unk'}\n",
    "\n",
    "df.job = df.job.map(job_values)\n",
    "\n",
    "for c in ['income', 'assets', 'debt']:\n",
    "    df[c] = df[c].replace(to_replace=99999999, value=np.nan)\n",
    "\n",
    "df = df[df.status != 'unk'].reset_index(drop=True)"
   ]
  },
  {
   "cell_type": "code",
   "execution_count": 6,
   "id": "4d56884d",
   "metadata": {},
   "outputs": [],
   "source": [
    "df_train, df_test = train_test_split(df, test_size=0.2, random_state=11)\n",
    "\n",
    "df_train = df_train.reset_index(drop=True)\n",
    "df_test = df_test.reset_index(drop=True)\n",
    "\n",
    "y_train = (df_train.status == 'default').astype('int').values\n",
    "y_test = (df_test.status == 'default').astype('int').values\n",
    "\n",
    "del df_train['status']\n",
    "del df_test['status']"
   ]
  },
  {
   "cell_type": "code",
   "execution_count": 7,
   "id": "fdce0c98",
   "metadata": {},
   "outputs": [],
   "source": [
    "dv = DictVectorizer(sparse=False)\n",
    "\n",
    "train_dicts = df_train.fillna(0).to_dict(orient='records')\n",
    "x_train = dv.fit_transform(train_dicts)\n",
    "\n",
    "test_dicts = df_test.fillna(0).to_dict(orient='records')\n",
    "x_test = dv.transform(test_dicts)"
   ]
  },
  {
   "cell_type": "code",
   "execution_count": 8,
   "id": "7ad6af34",
   "metadata": {},
   "outputs": [
    {
     "data": {
      "text/plain": [
       "RandomForestClassifier(max_depth=10, min_samples_leaf=3, n_estimators=200,\n",
       "                       random_state=1)"
      ]
     },
     "execution_count": 8,
     "metadata": {},
     "output_type": "execute_result"
    }
   ],
   "source": [
    "rf = RandomForestClassifier(n_estimators=200,\n",
    "                            max_depth=10,\n",
    "                            min_samples_leaf=3,\n",
    "                            random_state=1)\n",
    "rf.fit(x_train, y_train)"
   ]
  },
  {
   "cell_type": "code",
   "execution_count": 9,
   "id": "ecaeb5c2",
   "metadata": {},
   "outputs": [
    {
     "name": "stdout",
     "output_type": "stream",
     "text": [
      "Defaulting to user installation because normal site-packages is not writeable\n",
      "Requirement already satisfied: ruamel-yaml in c:\\users\\mashk\\appdata\\roaming\\python\\python39\\site-packages (0.17.21)\n",
      "Requirement already satisfied: ruamel.yaml.clib>=0.2.6 in c:\\users\\mashk\\appdata\\roaming\\python\\python39\\site-packages (from ruamel-yaml) (0.2.7)\n"
     ]
    }
   ],
   "source": [
    "!pip install ruamel-yaml"
   ]
  },
  {
   "cell_type": "code",
   "execution_count": 10,
   "id": "af3ffd2e",
   "metadata": {},
   "outputs": [
    {
     "name": "stdout",
     "output_type": "stream",
     "text": [
      "Defaulting to user installation because normal site-packages is not writeable\n",
      "Requirement already satisfied: pywinpty==1.1.6 in c:\\users\\mashk\\appdata\\roaming\\python\\python39\\site-packages (1.1.6)\n"
     ]
    }
   ],
   "source": [
    "!pip install pywinpty==1.1.6"
   ]
  },
  {
   "cell_type": "code",
   "execution_count": 11,
   "id": "ea722034",
   "metadata": {},
   "outputs": [
    {
     "name": "stdout",
     "output_type": "stream",
     "text": [
      "Defaulting to user installation because normal site-packages is not writeable\n",
      "Requirement already satisfied: bentoml in c:\\users\\mashk\\appdata\\roaming\\python\\python39\\site-packages (1.0.7)\n",
      "Requirement already satisfied: PyYAML>=5.0 in c:\\programdata\\anaconda3\\lib\\site-packages (from bentoml) (6.0)\n",
      "Requirement already satisfied: simple-di>=0.1.4 in c:\\users\\mashk\\appdata\\roaming\\python\\python39\\site-packages (from bentoml) (0.1.5)\n",
      "Requirement already satisfied: opentelemetry-instrumentation-asgi==0.33b0 in c:\\users\\mashk\\appdata\\roaming\\python\\python39\\site-packages (from bentoml) (0.33b0)\n",
      "Requirement already satisfied: opentelemetry-sdk>=1.9.0 in c:\\users\\mashk\\appdata\\roaming\\python\\python39\\site-packages (from bentoml) (1.12.0)\n",
      "Requirement already satisfied: prometheus-client>=0.10.0 in c:\\programdata\\anaconda3\\lib\\site-packages (from bentoml) (0.13.1)\n",
      "Requirement already satisfied: aiohttp in c:\\programdata\\anaconda3\\lib\\site-packages (from bentoml) (3.8.1)\n",
      "Requirement already satisfied: requests in c:\\programdata\\anaconda3\\lib\\site-packages (from bentoml) (2.27.1)\n",
      "Requirement already satisfied: click>=7.0 in c:\\programdata\\anaconda3\\lib\\site-packages (from bentoml) (8.0.4)\n",
      "Requirement already satisfied: opentelemetry-instrumentation-aiohttp-client==0.33b0 in c:\\users\\mashk\\appdata\\roaming\\python\\python39\\site-packages (from bentoml) (0.33b0)\n",
      "Requirement already satisfied: fs in c:\\users\\mashk\\appdata\\roaming\\python\\python39\\site-packages (from bentoml) (2.4.16)\n",
      "Requirement already satisfied: opentelemetry-instrumentation==0.33b0 in c:\\users\\mashk\\appdata\\roaming\\python\\python39\\site-packages (from bentoml) (0.33b0)\n",
      "Requirement already satisfied: opentelemetry-util-http==0.33b0 in c:\\users\\mashk\\appdata\\roaming\\python\\python39\\site-packages (from bentoml) (0.33b0)\n",
      "Requirement already satisfied: deepmerge in c:\\users\\mashk\\appdata\\roaming\\python\\python39\\site-packages (from bentoml) (1.0.1)\n",
      "Requirement already satisfied: cloudpickle in c:\\programdata\\anaconda3\\lib\\site-packages (from bentoml) (2.0.0)\n",
      "Requirement already satisfied: circus in c:\\users\\mashk\\appdata\\roaming\\python\\python39\\site-packages (from bentoml) (0.17.2)\n",
      "Requirement already satisfied: numpy in c:\\programdata\\anaconda3\\lib\\site-packages (from bentoml) (1.21.5)\n",
      "Requirement already satisfied: watchfiles>=0.15.0 in c:\\users\\mashk\\appdata\\roaming\\python\\python39\\site-packages (from bentoml) (0.18.0)\n",
      "Requirement already satisfied: pynvml<12 in c:\\users\\mashk\\appdata\\roaming\\python\\python39\\site-packages (from bentoml) (11.4.1)\n",
      "Requirement already satisfied: uvicorn in c:\\users\\mashk\\appdata\\roaming\\python\\python39\\site-packages (from bentoml) (0.19.0)\n",
      "Requirement already satisfied: packaging>=20.0 in c:\\programdata\\anaconda3\\lib\\site-packages (from bentoml) (21.3)\n",
      "Requirement already satisfied: pip-tools>=6.6.2 in c:\\users\\mashk\\appdata\\roaming\\python\\python39\\site-packages (from bentoml) (6.9.0)\n",
      "Requirement already satisfied: opentelemetry-semantic-conventions==0.33b0 in c:\\users\\mashk\\appdata\\roaming\\python\\python39\\site-packages (from bentoml) (0.33b0)\n",
      "Requirement already satisfied: python-dotenv>=0.20.0 in c:\\users\\mashk\\appdata\\roaming\\python\\python39\\site-packages (from bentoml) (0.21.0)\n",
      "Requirement already satisfied: starlette in c:\\users\\mashk\\appdata\\roaming\\python\\python39\\site-packages (from bentoml) (0.21.0)\n",
      "Requirement already satisfied: Jinja2>=3.0.1 in c:\\users\\mashk\\appdata\\roaming\\python\\python39\\site-packages (from bentoml) (3.1.2)\n",
      "Requirement already satisfied: schema in c:\\users\\mashk\\appdata\\roaming\\python\\python39\\site-packages (from bentoml) (0.7.5)\n",
      "Requirement already satisfied: pathspec in c:\\programdata\\anaconda3\\lib\\site-packages (from bentoml) (0.7.0)\n",
      "Requirement already satisfied: opentelemetry-api>=1.9.0 in c:\\users\\mashk\\appdata\\roaming\\python\\python39\\site-packages (from bentoml) (1.12.0)\n",
      "Requirement already satisfied: psutil in c:\\programdata\\anaconda3\\lib\\site-packages (from bentoml) (5.8.0)\n",
      "Requirement already satisfied: cattrs>=22.1.0 in c:\\users\\mashk\\appdata\\roaming\\python\\python39\\site-packages (from bentoml) (22.2.0)\n",
      "Requirement already satisfied: python-dateutil in c:\\programdata\\anaconda3\\lib\\site-packages (from bentoml) (2.8.2)\n",
      "Requirement already satisfied: python-multipart in c:\\users\\mashk\\appdata\\roaming\\python\\python39\\site-packages (from bentoml) (0.0.5)\n",
      "Requirement already satisfied: attrs>=21.1.0 in c:\\programdata\\anaconda3\\lib\\site-packages (from bentoml) (21.4.0)\n",
      "Requirement already satisfied: rich>=11.2.0 in c:\\users\\mashk\\appdata\\roaming\\python\\python39\\site-packages (from bentoml) (12.6.0)\n",
      "Requirement already satisfied: wrapt<2.0.0,>=1.0.0 in c:\\programdata\\anaconda3\\lib\\site-packages (from opentelemetry-instrumentation==0.33b0->bentoml) (1.12.1)\n",
      "Requirement already satisfied: setuptools>=16.0 in c:\\programdata\\anaconda3\\lib\\site-packages (from opentelemetry-instrumentation==0.33b0->bentoml) (61.2.0)\n",
      "Requirement already satisfied: asgiref~=3.0 in c:\\users\\mashk\\appdata\\roaming\\python\\python39\\site-packages (from opentelemetry-instrumentation-asgi==0.33b0->bentoml) (3.5.2)\n",
      "Requirement already satisfied: exceptiongroup in c:\\users\\mashk\\appdata\\roaming\\python\\python39\\site-packages (from cattrs>=22.1.0->bentoml) (1.0.0rc9)\n",
      "Requirement already satisfied: colorama in c:\\programdata\\anaconda3\\lib\\site-packages (from click>=7.0->bentoml) (0.4.4)\n",
      "Requirement already satisfied: MarkupSafe>=2.0 in c:\\programdata\\anaconda3\\lib\\site-packages (from Jinja2>=3.0.1->bentoml) (2.0.1)\n",
      "Requirement already satisfied: Deprecated>=1.2.6 in c:\\users\\mashk\\appdata\\roaming\\python\\python39\\site-packages (from opentelemetry-api>=1.9.0->bentoml) (1.2.13)\n",
      "Requirement already satisfied: typing-extensions>=3.7.4 in c:\\programdata\\anaconda3\\lib\\site-packages (from opentelemetry-sdk>=1.9.0->bentoml) (4.1.1)\n",
      "Requirement already satisfied: pyparsing!=3.0.5,>=2.0.2 in c:\\programdata\\anaconda3\\lib\\site-packages (from packaging>=20.0->bentoml) (3.0.4)\n",
      "Requirement already satisfied: pip>=21.2 in c:\\programdata\\anaconda3\\lib\\site-packages (from pip-tools>=6.6.2->bentoml) (21.2.4)\n",
      "Requirement already satisfied: wheel in c:\\programdata\\anaconda3\\lib\\site-packages (from pip-tools>=6.6.2->bentoml) (0.37.1)\n",
      "Requirement already satisfied: build in c:\\users\\mashk\\appdata\\roaming\\python\\python39\\site-packages (from pip-tools>=6.6.2->bentoml) (0.8.0)\n",
      "Requirement already satisfied: commonmark<0.10.0,>=0.9.0 in c:\\users\\mashk\\appdata\\roaming\\python\\python39\\site-packages (from rich>=11.2.0->bentoml) (0.9.1)\n",
      "Requirement already satisfied: pygments<3.0.0,>=2.6.0 in c:\\programdata\\anaconda3\\lib\\site-packages (from rich>=11.2.0->bentoml) (2.11.2)\n",
      "Requirement already satisfied: anyio<4,>=3.0.0 in c:\\programdata\\anaconda3\\lib\\site-packages (from watchfiles>=0.15.0->bentoml) (3.5.0)\n",
      "Requirement already satisfied: sniffio>=1.1 in c:\\programdata\\anaconda3\\lib\\site-packages (from anyio<4,>=3.0.0->watchfiles>=0.15.0->bentoml) (1.2.0)\n",
      "Requirement already satisfied: idna>=2.8 in c:\\programdata\\anaconda3\\lib\\site-packages (from anyio<4,>=3.0.0->watchfiles>=0.15.0->bentoml) (3.3)\n",
      "Requirement already satisfied: aiosignal>=1.1.2 in c:\\programdata\\anaconda3\\lib\\site-packages (from aiohttp->bentoml) (1.2.0)\n",
      "Requirement already satisfied: charset-normalizer<3.0,>=2.0 in c:\\programdata\\anaconda3\\lib\\site-packages (from aiohttp->bentoml) (2.0.4)\n",
      "Requirement already satisfied: frozenlist>=1.1.1 in c:\\programdata\\anaconda3\\lib\\site-packages (from aiohttp->bentoml) (1.2.0)\n",
      "Requirement already satisfied: yarl<2.0,>=1.0 in c:\\programdata\\anaconda3\\lib\\site-packages (from aiohttp->bentoml) (1.6.3)\n",
      "Requirement already satisfied: async-timeout<5.0,>=4.0.0a3 in c:\\programdata\\anaconda3\\lib\\site-packages (from aiohttp->bentoml) (4.0.1)\n",
      "Requirement already satisfied: multidict<7.0,>=4.5 in c:\\programdata\\anaconda3\\lib\\site-packages (from aiohttp->bentoml) (5.1.0)\n",
      "Requirement already satisfied: pep517>=0.9.1 in c:\\users\\mashk\\appdata\\roaming\\python\\python39\\site-packages (from build->pip-tools>=6.6.2->bentoml) (0.13.0)\n",
      "Requirement already satisfied: tomli>=1.0.0 in c:\\programdata\\anaconda3\\lib\\site-packages (from build->pip-tools>=6.6.2->bentoml) (1.2.2)\n",
      "Requirement already satisfied: pyzmq>=17.0 in c:\\programdata\\anaconda3\\lib\\site-packages (from circus->bentoml) (22.3.0)\n",
      "Requirement already satisfied: tornado>=5.0.2 in c:\\programdata\\anaconda3\\lib\\site-packages (from circus->bentoml) (6.1)\n",
      "Requirement already satisfied: six~=1.10 in c:\\programdata\\anaconda3\\lib\\site-packages (from fs->bentoml) (1.16.0)\n",
      "Requirement already satisfied: appdirs~=1.4.3 in c:\\programdata\\anaconda3\\lib\\site-packages (from fs->bentoml) (1.4.4)\n",
      "Requirement already satisfied: certifi>=2017.4.17 in c:\\programdata\\anaconda3\\lib\\site-packages (from requests->bentoml) (2021.10.8)\n",
      "Requirement already satisfied: urllib3<1.27,>=1.21.1 in c:\\programdata\\anaconda3\\lib\\site-packages (from requests->bentoml) (1.26.9)\n",
      "Requirement already satisfied: contextlib2>=0.5.5 in c:\\users\\mashk\\appdata\\roaming\\python\\python39\\site-packages (from schema->bentoml) (21.6.0)\n",
      "Requirement already satisfied: h11>=0.8 in c:\\users\\mashk\\appdata\\roaming\\python\\python39\\site-packages (from uvicorn->bentoml) (0.14.0)\n"
     ]
    }
   ],
   "source": [
    "!pip install bentoml"
   ]
  },
  {
   "cell_type": "code",
   "execution_count": 15,
   "id": "ed4813e2",
   "metadata": {
    "scrolled": true
   },
   "outputs": [
    {
     "name": "stdout",
     "output_type": "stream",
     "text": [
      "1.0.7\n"
     ]
    }
   ],
   "source": [
    "print(bentoml.__version__)"
   ]
  },
  {
   "cell_type": "code",
   "execution_count": 13,
   "id": "5e832688",
   "metadata": {},
   "outputs": [
    {
     "data": {
      "text/plain": [
       "Model(tag=\"random_forest_model:57l7qqks42t2nlcq\", path=\"C:\\Users\\mashk\\bentoml\\models\\random_forest_model\\57l7qqks42t2nlcq\\\")"
      ]
     },
     "execution_count": 13,
     "metadata": {},
     "output_type": "execute_result"
    }
   ],
   "source": [
    "import bentoml\n",
    "\n",
    "bentoml.sklearn.save_model(\"random_forest_model\", rf)"
   ]
  },
  {
   "cell_type": "code",
   "execution_count": 20,
   "id": "024d6cd5",
   "metadata": {},
   "outputs": [],
   "source": [
    "#!dir C:\\Users\\mashk\\bentoml\\models\\random_forest_model\\57l7qqks42t2nlcq\\"
   ]
  },
  {
   "cell_type": "code",
   "execution_count": 18,
   "id": "63966385",
   "metadata": {},
   "outputs": [
    {
     "name": "stdout",
     "output_type": "stream",
     "text": [
      "Defaulting to user installation because normal site-packages is not writeable\n",
      "Collecting pydantic\n",
      "  Downloading pydantic-1.10.2-cp39-cp39-win_amd64.whl (2.1 MB)\n",
      "Requirement already satisfied: typing-extensions>=4.1.0 in c:\\programdata\\anaconda3\\lib\\site-packages (from pydantic) (4.1.1)\n",
      "Installing collected packages: pydantic\n",
      "Successfully installed pydantic-1.10.2\n"
     ]
    }
   ],
   "source": [
    "!pip install pydantic"
   ]
  },
  {
   "cell_type": "code",
   "execution_count": 21,
   "id": "15befc85",
   "metadata": {},
   "outputs": [],
   "source": [
    "from pydantic import BaseModel\n",
    "\n",
    "class UserProfile(BaseModel):\n",
    "    name: str\n",
    "    age: int\n",
    "    country: str\n",
    "    rating: float"
   ]
  },
  {
   "cell_type": "code",
   "execution_count": 25,
   "id": "dd431816",
   "metadata": {},
   "outputs": [],
   "source": [
    "#!curl -O https://s3.us-west-2.amazonaws.com/bentoml.com/mlzoomcamp/coolmodel.bentomodel"
   ]
  },
  {
   "cell_type": "code",
   "execution_count": 29,
   "id": "35a9468b",
   "metadata": {},
   "outputs": [],
   "source": [
    "#!bentoml models import coolmodel.bentomodel"
   ]
  },
  {
   "cell_type": "code",
   "execution_count": 26,
   "id": "cdacac8f",
   "metadata": {},
   "outputs": [],
   "source": [
    "#!bentoml models list"
   ]
  },
  {
   "cell_type": "code",
   "execution_count": 27,
   "id": "fe8aeee7",
   "metadata": {},
   "outputs": [],
   "source": [
    "#!bentoml models get mlzoomcamp_homework:qtzdz3sl"
   ]
  },
  {
   "cell_type": "code",
   "execution_count": 28,
   "id": "55b82856",
   "metadata": {},
   "outputs": [],
   "source": [
    "# bentofile.yaml\n",
    "# bentoml build\n",
    "# bentoml containerize mlzoomcamp_model:latest\n",
    "# docker run -it --rm -p 3000:3000 mlzoomcamp_model:2jmj5jsqhoripugg serve --production\"."
   ]
  },
  {
   "cell_type": "code",
   "execution_count": 30,
   "id": "1f070084",
   "metadata": {},
   "outputs": [
    {
     "name": "stdout",
     "output_type": "stream",
     "text": [
      "Defaulting to user installation because normal site-packages is not writeable\n",
      "Collecting locust\n",
      "  Downloading locust-2.12.2-py3-none-any.whl (823 kB)\n",
      "Requirement already satisfied: psutil>=5.6.7 in c:\\programdata\\anaconda3\\lib\\site-packages (from locust) (5.8.0)\n",
      "Requirement already satisfied: msgpack>=0.6.2 in c:\\programdata\\anaconda3\\lib\\site-packages (from locust) (1.0.2)\n",
      "Collecting roundrobin>=0.0.2\n",
      "  Downloading roundrobin-0.0.4.tar.gz (3.4 kB)\n",
      "Collecting ConfigArgParse>=1.0\n",
      "  Downloading ConfigArgParse-1.5.3-py3-none-any.whl (20 kB)\n",
      "Collecting gevent>=20.12.1\n",
      "  Downloading gevent-22.10.1-cp39-cp39-win_amd64.whl (1.5 MB)\n",
      "Collecting Flask-BasicAuth>=0.2.0\n",
      "  Downloading Flask-BasicAuth-0.2.0.tar.gz (16 kB)\n",
      "Requirement already satisfied: typing-extensions>=3.7.4.3 in c:\\programdata\\anaconda3\\lib\\site-packages (from locust) (4.1.1)\n",
      "Collecting flask>=2.0.0\n",
      "  Downloading Flask-2.2.2-py3-none-any.whl (101 kB)\n",
      "Requirement already satisfied: pywin32 in c:\\programdata\\anaconda3\\lib\\site-packages (from locust) (302)\n",
      "Collecting geventhttpclient>=2.0.2\n",
      "  Downloading geventhttpclient-2.0.8-cp39-cp39-win_amd64.whl (39 kB)\n",
      "Requirement already satisfied: requests>=2.23.0 in c:\\programdata\\anaconda3\\lib\\site-packages (from locust) (2.27.1)\n",
      "Requirement already satisfied: pyzmq!=23.0.0,>=22.2.1 in c:\\programdata\\anaconda3\\lib\\site-packages (from locust) (22.3.0)\n",
      "Collecting Flask-Cors>=3.0.10\n",
      "  Downloading Flask_Cors-3.0.10-py2.py3-none-any.whl (14 kB)\n",
      "Requirement already satisfied: Werkzeug>=2.0.0 in c:\\programdata\\anaconda3\\lib\\site-packages (from locust) (2.0.3)\n",
      "Requirement already satisfied: itsdangerous>=2.0 in c:\\programdata\\anaconda3\\lib\\site-packages (from flask>=2.0.0->locust) (2.0.1)\n",
      "Requirement already satisfied: importlib-metadata>=3.6.0 in c:\\programdata\\anaconda3\\lib\\site-packages (from flask>=2.0.0->locust) (4.11.3)\n",
      "Requirement already satisfied: Jinja2>=3.0 in c:\\users\\mashk\\appdata\\roaming\\python\\python39\\site-packages (from flask>=2.0.0->locust) (3.1.2)\n",
      "Collecting Werkzeug>=2.0.0\n",
      "  Downloading Werkzeug-2.2.2-py3-none-any.whl (232 kB)\n",
      "Requirement already satisfied: click>=8.0 in c:\\programdata\\anaconda3\\lib\\site-packages (from flask>=2.0.0->locust) (8.0.4)\n",
      "Requirement already satisfied: colorama in c:\\programdata\\anaconda3\\lib\\site-packages (from click>=8.0->flask>=2.0.0->locust) (0.4.4)\n",
      "Requirement already satisfied: Six in c:\\programdata\\anaconda3\\lib\\site-packages (from Flask-Cors>=3.0.10->locust) (1.16.0)\n",
      "Collecting zope.event\n",
      "  Downloading zope.event-4.5.0-py2.py3-none-any.whl (6.8 kB)\n",
      "Requirement already satisfied: cffi>=1.12.2 in c:\\programdata\\anaconda3\\lib\\site-packages (from gevent>=20.12.1->locust) (1.15.0)\n",
      "Requirement already satisfied: zope.interface in c:\\programdata\\anaconda3\\lib\\site-packages (from gevent>=20.12.1->locust) (5.4.0)\n",
      "Requirement already satisfied: setuptools in c:\\programdata\\anaconda3\\lib\\site-packages (from gevent>=20.12.1->locust) (61.2.0)\n",
      "Collecting greenlet<2.0,>=1.1.3\n",
      "  Downloading greenlet-1.1.3.post0-cp39-cp39-win_amd64.whl (101 kB)\n",
      "Requirement already satisfied: pycparser in c:\\programdata\\anaconda3\\lib\\site-packages (from cffi>=1.12.2->gevent>=20.12.1->locust) (2.21)\n",
      "Requirement already satisfied: certifi in c:\\programdata\\anaconda3\\lib\\site-packages (from geventhttpclient>=2.0.2->locust) (2021.10.8)\n",
      "Collecting brotli\n",
      "  Downloading Brotli-1.0.9-cp39-cp39-win_amd64.whl (383 kB)\n",
      "Requirement already satisfied: zipp>=0.5 in c:\\programdata\\anaconda3\\lib\\site-packages (from importlib-metadata>=3.6.0->flask>=2.0.0->locust) (3.7.0)\n",
      "Requirement already satisfied: MarkupSafe>=2.0 in c:\\programdata\\anaconda3\\lib\\site-packages (from Jinja2>=3.0->flask>=2.0.0->locust) (2.0.1)\n",
      "Requirement already satisfied: urllib3<1.27,>=1.21.1 in c:\\programdata\\anaconda3\\lib\\site-packages (from requests>=2.23.0->locust) (1.26.9)\n",
      "Requirement already satisfied: charset-normalizer~=2.0.0 in c:\\programdata\\anaconda3\\lib\\site-packages (from requests>=2.23.0->locust) (2.0.4)\n",
      "Requirement already satisfied: idna<4,>=2.5 in c:\\programdata\\anaconda3\\lib\\site-packages (from requests>=2.23.0->locust) (3.3)\n",
      "Collecting MarkupSafe>=2.0\n",
      "  Downloading MarkupSafe-2.1.1-cp39-cp39-win_amd64.whl (17 kB)\n",
      "Building wheels for collected packages: Flask-BasicAuth, roundrobin\n",
      "  Building wheel for Flask-BasicAuth (setup.py): started\n",
      "  Building wheel for Flask-BasicAuth (setup.py): finished with status 'done'\n",
      "  Created wheel for Flask-BasicAuth: filename=Flask_BasicAuth-0.2.0-py3-none-any.whl size=4243 sha256=75566898903f083dc5f687759ed99de915e469512acf011f4a81bf1b0e2ca25c\n",
      "  Stored in directory: c:\\users\\mashk\\appdata\\local\\pip\\cache\\wheels\\d4\\5a\\db\\e442580c22be34f69e537448832d7e1ee5a9c5adb63ace30bf\n",
      "  Building wheel for roundrobin (setup.py): started\n",
      "  Building wheel for roundrobin (setup.py): finished with status 'done'\n",
      "  Created wheel for roundrobin: filename=roundrobin-0.0.4-py3-none-any.whl size=4034 sha256=29a79cfc5213a8c3af56b4c077d486a2cf84298f2693720d517f511b5d540b3f\n",
      "  Stored in directory: c:\\users\\mashk\\appdata\\local\\pip\\cache\\wheels\\f0\\a5\\95\\f5228e0966ecd65b54419065aefc1892af1fc06652fcb9f4d0\n",
      "Successfully built Flask-BasicAuth roundrobin\n",
      "Installing collected packages: MarkupSafe, zope.event, Werkzeug, greenlet, gevent, flask, brotli, roundrobin, geventhttpclient, Flask-Cors, Flask-BasicAuth, ConfigArgParse, locust\n",
      "Successfully installed ConfigArgParse-1.5.3 Flask-BasicAuth-0.2.0 Flask-Cors-3.0.10 MarkupSafe-2.1.1 Werkzeug-2.2.2 brotli-1.0.9 flask-2.2.2 gevent-22.10.1 geventhttpclient-2.0.8 greenlet-1.1.3.post0 locust-2.12.2 roundrobin-0.0.4 zope.event-4.5.0\n"
     ]
    },
    {
     "name": "stderr",
     "output_type": "stream",
     "text": [
      "  WARNING: The script flask.exe is installed in 'C:\\Users\\mashk\\AppData\\Roaming\\Python\\Python39\\Scripts' which is not on PATH.\n",
      "  Consider adding this directory to PATH or, if you prefer to suppress this warning, use --no-warn-script-location.\n",
      "  WARNING: The script locust.exe is installed in 'C:\\Users\\mashk\\AppData\\Roaming\\Python\\Python39\\Scripts' which is not on PATH.\n",
      "  Consider adding this directory to PATH or, if you prefer to suppress this warning, use --no-warn-script-location.\n"
     ]
    }
   ],
   "source": [
    "!pip3 install locust"
   ]
  },
  {
   "cell_type": "code",
   "execution_count": 31,
   "id": "18e3dbd9",
   "metadata": {},
   "outputs": [],
   "source": [
    "dtrain = xgb.DMatrix(x_train, label=y_train)\n",
    "\n",
    "xgb_params = {\n",
    "    'eta': 0.1, \n",
    "    'max_depth': 3,\n",
    "    'min_child_weight': 1,\n",
    "\n",
    "    'objective': 'binary:logistic',\n",
    "    'eval_metric': 'auc',\n",
    "\n",
    "    'nthread': 8,\n",
    "    'seed': 1,\n",
    "    'verbosity': 1,\n",
    "}\n",
    "\n",
    "model = xgb.train(xgb_params, dtrain, num_boost_round=175)"
   ]
  },
  {
   "cell_type": "code",
   "execution_count": 32,
   "id": "7d266967",
   "metadata": {},
   "outputs": [],
   "source": [
    "import bentoml"
   ]
  },
  {
   "cell_type": "code",
   "execution_count": 33,
   "id": "31ae8e32",
   "metadata": {},
   "outputs": [
    {
     "data": {
      "text/plain": [
       "Model(tag=\"credit_risk_model:geedfkks5kj27lcq\", path=\"C:\\Users\\mashk\\bentoml\\models\\credit_risk_model\\geedfkks5kj27lcq\\\")"
      ]
     },
     "execution_count": 33,
     "metadata": {},
     "output_type": "execute_result"
    }
   ],
   "source": [
    "bentoml.xgboost.save_model(\n",
    "    'credit_risk_model',\n",
    "    model,\n",
    "    custom_objects={\n",
    "        'dictVectorizer': dv\n",
    "    })"
   ]
  },
  {
   "cell_type": "code",
   "execution_count": 34,
   "id": "733a024c",
   "metadata": {},
   "outputs": [
    {
     "name": "stdout",
     "output_type": "stream",
     "text": [
      "{\n",
      "  \"seniority\": 3,\n",
      "  \"home\": \"owner\",\n",
      "  \"time\": 36,\n",
      "  \"age\": 26,\n",
      "  \"marital\": \"single\",\n",
      "  \"records\": \"no\",\n",
      "  \"job\": \"freelance\",\n",
      "  \"expenses\": 35,\n",
      "  \"income\": 0.0,\n",
      "  \"assets\": 60000.0,\n",
      "  \"debt\": 3000.0,\n",
      "  \"amount\": 800,\n",
      "  \"price\": 1000\n",
      "}\n"
     ]
    }
   ],
   "source": [
    "import json\n",
    "request = df_test.iloc[0].to_dict()\n",
    "print(json.dumps(request, indent=2))"
   ]
  },
  {
   "cell_type": "code",
   "execution_count": null,
   "id": "8a669ec8",
   "metadata": {},
   "outputs": [],
   "source": []
  }
 ],
 "metadata": {
  "kernelspec": {
   "display_name": "Python 3 (ipykernel)",
   "language": "python",
   "name": "python3"
  },
  "language_info": {
   "codemirror_mode": {
    "name": "ipython",
    "version": 3
   },
   "file_extension": ".py",
   "mimetype": "text/x-python",
   "name": "python",
   "nbconvert_exporter": "python",
   "pygments_lexer": "ipython3",
   "version": "3.9.12"
  }
 },
 "nbformat": 4,
 "nbformat_minor": 5
}
